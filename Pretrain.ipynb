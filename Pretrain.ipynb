{
 "cells": [
  {
   "cell_type": "markdown",
   "source": [
    "# Pre-Train OBF Model for Eye-Tracking Analysis\n",
    "\n",
    "- Author: Beibin Li\n",
    "- For details, Refer to Section 3 of [arxiv/2108.05025](https://arxiv.org/abs/2108.05025)\n",
    "\n",
    "\n",
    "In this notebook we demonstrate how to use our tools to pre-train a OBF model.\n",
    "\n",
    "If you have any questions, please feel free to contact: beibin@uw.edu"
   ],
   "metadata": {}
  },
  {
   "cell_type": "code",
   "execution_count": null,
   "source": [
    "# Load OBF functions and features\r\n",
    "from obf.execution.trainer import Trainer\r\n",
    "from obf.model.creator import create_models\r\n",
    "from obf.dataloader.gaze_loader import get_pretrain_data_loader\r\n",
    "from obf.utils.config import load_config"
   ],
   "outputs": [],
   "metadata": {}
  },
  {
   "cell_type": "code",
   "execution_count": null,
   "source": [
    "#@title Load other libraries\r\n",
    "import torch\r\n",
    "\r\n",
    "\r\n",
    "from scipy.stats import pearsonr\r\n",
    "import numpy as np\r\n",
    "\r\n",
    "import time\r\n",
    "import os\r\n",
    "import argparse\r\n",
    "import json\r\n",
    "\r\n",
    "# Print 2 decimal for Numpy data.\r\n",
    "np.set_printoptions(formatter={'float': lambda x: \"{0:0.2f}\".format(x)})"
   ],
   "outputs": [],
   "metadata": {}
  },
  {
   "cell_type": "code",
   "execution_count": null,
   "source": [
    "print(torch.__version__)"
   ],
   "outputs": [],
   "metadata": {}
  },
  {
   "cell_type": "code",
   "execution_count": null,
   "source": [
    "#@title Setting\r\n",
    "config_path = \"configs/full_setting.json\"  #@param"
   ],
   "outputs": [],
   "metadata": {}
  },
  {
   "cell_type": "code",
   "execution_count": null,
   "source": [
    "# Load the setting config\r\n",
    "setting = load_config(config_path)\r\n",
    "\r\n",
    "experiment = setting[\"experiment\"]"
   ],
   "outputs": [],
   "metadata": {}
  },
  {
   "cell_type": "code",
   "execution_count": null,
   "source": [
    "# Show setting\r\n",
    "print(json.dumps(setting, indent=2))"
   ],
   "outputs": [],
   "metadata": {}
  },
  {
   "cell_type": "markdown",
   "source": [
    "\n",
    "We put some random data into the \"sample_data\" folder. Please add your private data or download some public data, and then add these eye-tracking data to the configuration.\n",
    "\n",
    "\n",
    "Note: here, we only train the model for \"10\" epochs, which is not enough.\n",
    "You can change the \"setting.json\" file for your need."
   ],
   "metadata": {}
  },
  {
   "cell_type": "code",
   "execution_count": null,
   "source": [
    "# Show an example signal\r\n",
    "# The first column is time, the second column is x value, and the third column is y value.\r\n",
    "\r\n",
    "sample_signal = np.loadtxt(\"sample_data/coutrot/clean_data_1/example_1.txt\", delimiter=\",\")\r\n",
    "\r\n",
    "print(sample_signal)"
   ],
   "outputs": [],
   "metadata": {}
  },
  {
   "cell_type": "code",
   "execution_count": null,
   "source": [],
   "outputs": [],
   "metadata": {}
  },
  {
   "cell_type": "code",
   "execution_count": null,
   "source": [
    "# Get data loaders\r\n",
    "train_loader = get_pretrain_data_loader(\r\n",
    "  \"train\", setting[\"pretrain data setting\"])\r\n",
    "valid_loader = get_pretrain_data_loader(\r\n",
    "  \"valid\", setting[\"pretrain data setting\"])"
   ],
   "outputs": [],
   "metadata": {}
  },
  {
   "cell_type": "code",
   "execution_count": null,
   "source": [
    "# Create Models\r\n",
    "models = create_models(experiment)\r\n"
   ],
   "outputs": [],
   "metadata": {
    "scrolled": true
   }
  },
  {
   "cell_type": "code",
   "execution_count": null,
   "source": [
    "# Create Trainer\r\n",
    "pretrain_trainer = Trainer(experiment, setting[\"fixation identification setting\"])"
   ],
   "outputs": [],
   "metadata": {}
  },
  {
   "cell_type": "code",
   "execution_count": null,
   "source": [
    "pretrain_trainer.train(models, train_loader, valid_loader)"
   ],
   "outputs": [],
   "metadata": {
    "scrolled": true
   }
  },
  {
   "cell_type": "markdown",
   "source": [
    "### Now, you finished the pre-training process, and you can find your models at the \"pre_weights\" folder.\n"
   ],
   "metadata": {}
  }
 ],
 "metadata": {
  "kernelspec": {
   "display_name": "Python 3",
   "language": "python",
   "name": "python3"
  },
  "language_info": {
   "codemirror_mode": {
    "name": "ipython",
    "version": 3
   },
   "file_extension": ".py",
   "mimetype": "text/x-python",
   "name": "python",
   "nbconvert_exporter": "python",
   "pygments_lexer": "ipython3",
   "version": "3.6.10"
  }
 },
 "nbformat": 4,
 "nbformat_minor": 5
}